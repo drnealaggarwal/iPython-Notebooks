{
 "cells": [
  {
   "cell_type": "code",
   "execution_count": 11,
   "metadata": {
    "collapsed": false
   },
   "outputs": [],
   "source": [
    "import datetime\n",
    "import pandas as pd\n",
    "import pandas.io.data\n",
    "from pandas import Series, DataFrame\n",
    "import matplotlib.pyplot as plt\n",
    "import matplotlib as mpl\n",
    "mpl.rc('figure', figsize=(8,7))"
   ]
  },
  {
   "cell_type": "code",
   "execution_count": 10,
   "metadata": {
    "collapsed": false
   },
   "outputs": [
    {
     "data": {
      "text/plain": [
       "a    1\n",
       "b    2\n",
       "c    3\n",
       "d    4\n",
       "e    5\n",
       "dtype: int64"
      ]
     },
     "execution_count": 10,
     "metadata": {},
     "output_type": "execute_result"
    }
   ],
   "source": [
    "labels = ['a', 'b', 'c', 'd', 'e']\n",
    "s = Series([1, 2, 3, 4, 5], index=labels)\n",
    "s"
   ]
  },
  {
   "cell_type": "code",
   "execution_count": 11,
   "metadata": {
    "collapsed": false
   },
   "outputs": [
    {
     "data": {
      "text/plain": [
       "True"
      ]
     },
     "execution_count": 11,
     "metadata": {},
     "output_type": "execute_result"
    }
   ],
   "source": [
    "'b' in s"
   ]
  },
  {
   "cell_type": "code",
   "execution_count": 12,
   "metadata": {
    "collapsed": false
   },
   "outputs": [
    {
     "data": {
      "text/plain": [
       "2"
      ]
     },
     "execution_count": 12,
     "metadata": {},
     "output_type": "execute_result"
    }
   ],
   "source": [
    "s['b']"
   ]
  },
  {
   "cell_type": "code",
   "execution_count": 13,
   "metadata": {
    "collapsed": false
   },
   "outputs": [
    {
     "data": {
      "text/plain": [
       "{'a': 1, 'b': 2, 'c': 3, 'd': 4, 'e': 5}"
      ]
     },
     "execution_count": 13,
     "metadata": {},
     "output_type": "execute_result"
    }
   ],
   "source": [
    "mapping = s.to_dict()\n",
    "mapping"
   ]
  },
  {
   "cell_type": "code",
   "execution_count": 14,
   "metadata": {
    "collapsed": false
   },
   "outputs": [
    {
     "data": {
      "text/plain": [
       "a    1\n",
       "b    2\n",
       "c    3\n",
       "d    4\n",
       "e    5\n",
       "dtype: int64"
      ]
     },
     "execution_count": 14,
     "metadata": {},
     "output_type": "execute_result"
    }
   ],
   "source": [
    "Series(mapping)"
   ]
  },
  {
   "cell_type": "markdown",
   "metadata": {},
   "source": [
    "##Get data from Yahoo Finance"
   ]
  },
  {
   "cell_type": "code",
   "execution_count": 12,
   "metadata": {
    "collapsed": false
   },
   "outputs": [
    {
     "data": {
      "text/html": [
       "<div style=\"max-height:1000px;max-width:1500px;overflow:auto;\">\n",
       "<table border=\"1\" class=\"dataframe\">\n",
       "  <thead>\n",
       "    <tr style=\"text-align: right;\">\n",
       "      <th></th>\n",
       "      <th>Open</th>\n",
       "      <th>High</th>\n",
       "      <th>Low</th>\n",
       "      <th>Close</th>\n",
       "      <th>Volume</th>\n",
       "      <th>Adj Close</th>\n",
       "    </tr>\n",
       "    <tr>\n",
       "      <th>Date</th>\n",
       "      <th></th>\n",
       "      <th></th>\n",
       "      <th></th>\n",
       "      <th></th>\n",
       "      <th></th>\n",
       "      <th></th>\n",
       "    </tr>\n",
       "  </thead>\n",
       "  <tbody>\n",
       "    <tr>\n",
       "      <th>2006-10-02</th>\n",
       "      <td> 75.09999</td>\n",
       "      <td> 75.86999</td>\n",
       "      <td> 74.30003</td>\n",
       "      <td> 74.86003</td>\n",
       "      <td> 178159800</td>\n",
       "      <td> 10.04550</td>\n",
       "    </tr>\n",
       "    <tr>\n",
       "      <th>2006-10-03</th>\n",
       "      <td> 74.44997</td>\n",
       "      <td> 74.94998</td>\n",
       "      <td> 73.18997</td>\n",
       "      <td> 74.08002</td>\n",
       "      <td> 197677200</td>\n",
       "      <td>  9.94083</td>\n",
       "    </tr>\n",
       "    <tr>\n",
       "      <th>2006-10-04</th>\n",
       "      <td> 74.09997</td>\n",
       "      <td> 75.46000</td>\n",
       "      <td> 73.16001</td>\n",
       "      <td> 75.37999</td>\n",
       "      <td> 207270700</td>\n",
       "      <td> 10.11527</td>\n",
       "    </tr>\n",
       "    <tr>\n",
       "      <th>2006-10-05</th>\n",
       "      <td> 74.52998</td>\n",
       "      <td> 76.16000</td>\n",
       "      <td> 74.13000</td>\n",
       "      <td> 74.83000</td>\n",
       "      <td> 170970800</td>\n",
       "      <td> 10.04147</td>\n",
       "    </tr>\n",
       "    <tr>\n",
       "      <th>2006-10-06</th>\n",
       "      <td> 74.42001</td>\n",
       "      <td> 75.04000</td>\n",
       "      <td> 73.81003</td>\n",
       "      <td> 74.22002</td>\n",
       "      <td> 116739700</td>\n",
       "      <td>  9.95962</td>\n",
       "    </tr>\n",
       "  </tbody>\n",
       "</table>\n",
       "</div>"
      ],
      "text/plain": [
       "                Open      High       Low     Close     Volume  Adj Close\n",
       "Date                                                                    \n",
       "2006-10-02  75.09999  75.86999  74.30003  74.86003  178159800   10.04550\n",
       "2006-10-03  74.44997  74.94998  73.18997  74.08002  197677200    9.94083\n",
       "2006-10-04  74.09997  75.46000  73.16001  75.37999  207270700   10.11527\n",
       "2006-10-05  74.52998  76.16000  74.13000  74.83000  170970800   10.04147\n",
       "2006-10-06  74.42001  75.04000  73.81003  74.22002  116739700    9.95962"
      ]
     },
     "execution_count": 12,
     "metadata": {},
     "output_type": "execute_result"
    }
   ],
   "source": [
    "aapl = pd.io.data.get_data_yahoo('AAPL', \n",
    "                                start = datetime.datetime(2006, 10, 1), \n",
    "                                end = datetime.datetime(2015, 6, 8))\n",
    "aapl.head()"
   ]
  },
  {
   "cell_type": "markdown",
   "metadata": {},
   "source": [
    "now the data is in aapl dump it into a csv file"
   ]
  },
  {
   "cell_type": "code",
   "execution_count": 17,
   "metadata": {
    "collapsed": false
   },
   "outputs": [
    {
     "data": {
      "text/plain": [
       "'/Users/nealaggarwal/iPython-Notebooks'"
      ]
     },
     "execution_count": 17,
     "metadata": {},
     "output_type": "execute_result"
    }
   ],
   "source": [
    "pwd"
   ]
  },
  {
   "cell_type": "code",
   "execution_count": 18,
   "metadata": {
    "collapsed": false
   },
   "outputs": [
    {
     "name": "stdout",
     "output_type": "stream",
     "text": [
      "Date,Open,High,Low,Close,Volume,Adj Close\r\n",
      "2006-10-02,75.09999,75.86999,74.30003,74.86003000000001,178159800,10.0455\r\n",
      "2006-10-03,74.44997,74.94998000000001,73.18997,74.08001999999999,197677200,9.94083\r\n",
      "2006-10-04,74.09997,75.46,73.16001,75.37999,207270700,10.115269999999999\r\n",
      "2006-10-05,74.52998000000001,76.16,74.13,74.83,170970800,10.04147\r\n",
      "2006-10-06,74.42000999999999,75.04,73.81003,74.22001999999999,116739700,9.95962\r\n",
      "2006-10-09,73.80001999999999,75.07996999999999,73.53003000000001,74.63001,109555600,10.01463\r\n",
      "2006-10-10,74.53999,74.58003000000001,73.08,73.81003,132897100,9.9046\r\n",
      "2006-10-11,73.41999,73.97999,72.60001,73.23001,142963800,9.82677\r\n",
      "2006-10-12,73.60996999999999,75.39,73.60003,75.26001,148213800,10.099169999999999\r\n"
     ]
    }
   ],
   "source": [
    "aapl.to_csv('aapl_ohlc.csv')\n",
    "!head aapl_ohlc.csv"
   ]
  },
  {
   "cell_type": "code",
   "execution_count": 21,
   "metadata": {
    "collapsed": false
   },
   "outputs": [
    {
     "data": {
      "text/html": [
       "<div style=\"max-height:1000px;max-width:1500px;overflow:auto;\">\n",
       "<table border=\"1\" class=\"dataframe\">\n",
       "  <thead>\n",
       "    <tr style=\"text-align: right;\">\n",
       "      <th></th>\n",
       "      <th>Open</th>\n",
       "      <th>High</th>\n",
       "      <th>Low</th>\n",
       "      <th>Close</th>\n",
       "      <th>Volume</th>\n",
       "      <th>Adj Close</th>\n",
       "    </tr>\n",
       "    <tr>\n",
       "      <th>Date</th>\n",
       "      <th></th>\n",
       "      <th></th>\n",
       "      <th></th>\n",
       "      <th></th>\n",
       "      <th></th>\n",
       "      <th></th>\n",
       "    </tr>\n",
       "  </thead>\n",
       "  <tbody>\n",
       "    <tr>\n",
       "      <th>2006-10-02</th>\n",
       "      <td> 75.09999</td>\n",
       "      <td> 75.86999</td>\n",
       "      <td> 74.30003</td>\n",
       "      <td> 74.86003</td>\n",
       "      <td> 178159800</td>\n",
       "      <td> 10.04550</td>\n",
       "    </tr>\n",
       "    <tr>\n",
       "      <th>2006-10-03</th>\n",
       "      <td> 74.44997</td>\n",
       "      <td> 74.94998</td>\n",
       "      <td> 73.18997</td>\n",
       "      <td> 74.08002</td>\n",
       "      <td> 197677200</td>\n",
       "      <td>  9.94083</td>\n",
       "    </tr>\n",
       "    <tr>\n",
       "      <th>2006-10-04</th>\n",
       "      <td> 74.09997</td>\n",
       "      <td> 75.46000</td>\n",
       "      <td> 73.16001</td>\n",
       "      <td> 75.37999</td>\n",
       "      <td> 207270700</td>\n",
       "      <td> 10.11527</td>\n",
       "    </tr>\n",
       "    <tr>\n",
       "      <th>2006-10-05</th>\n",
       "      <td> 74.52998</td>\n",
       "      <td> 76.16000</td>\n",
       "      <td> 74.13000</td>\n",
       "      <td> 74.83000</td>\n",
       "      <td> 170970800</td>\n",
       "      <td> 10.04147</td>\n",
       "    </tr>\n",
       "    <tr>\n",
       "      <th>2006-10-06</th>\n",
       "      <td> 74.42001</td>\n",
       "      <td> 75.04000</td>\n",
       "      <td> 73.81003</td>\n",
       "      <td> 74.22002</td>\n",
       "      <td> 116739700</td>\n",
       "      <td>  9.95962</td>\n",
       "    </tr>\n",
       "  </tbody>\n",
       "</table>\n",
       "</div>"
      ],
      "text/plain": [
       "                Open      High       Low     Close     Volume  Adj Close\n",
       "Date                                                                    \n",
       "2006-10-02  75.09999  75.86999  74.30003  74.86003  178159800   10.04550\n",
       "2006-10-03  74.44997  74.94998  73.18997  74.08002  197677200    9.94083\n",
       "2006-10-04  74.09997  75.46000  73.16001  75.37999  207270700   10.11527\n",
       "2006-10-05  74.52998  76.16000  74.13000  74.83000  170970800   10.04147\n",
       "2006-10-06  74.42001  75.04000  73.81003  74.22002  116739700    9.95962"
      ]
     },
     "execution_count": 21,
     "metadata": {},
     "output_type": "execute_result"
    }
   ],
   "source": [
    "df = pd.read_csv('aapl_ohlc.csv', index_col='Date', parse_dates=True)\n",
    "df.head()"
   ]
  },
  {
   "cell_type": "code",
   "execution_count": 22,
   "metadata": {
    "collapsed": false
   },
   "outputs": [
    {
     "data": {
      "text/plain": [
       "<class 'pandas.tseries.index.DatetimeIndex'>\n",
       "[2006-10-02, ..., 2015-06-05]\n",
       "Length: 2184, Freq: None, Timezone: None"
      ]
     },
     "execution_count": 22,
     "metadata": {},
     "output_type": "execute_result"
    }
   ],
   "source": [
    "df.index"
   ]
  },
  {
   "cell_type": "markdown",
   "metadata": {},
   "source": [
    "## Series and DataFrame testing"
   ]
  },
  {
   "cell_type": "code",
   "execution_count": 24,
   "metadata": {
    "collapsed": false
   },
   "outputs": [
    {
     "data": {
      "text/plain": [
       "Date\n",
       "2015-05-22    132.53999\n",
       "2015-05-26    129.62000\n",
       "2015-05-27    132.03999\n",
       "2015-05-28    131.78000\n",
       "2015-05-29    130.28000\n",
       "2015-06-01    130.53999\n",
       "2015-06-02    129.96001\n",
       "2015-06-03    130.12000\n",
       "2015-06-04    129.36000\n",
       "2015-06-05    128.64999\n",
       "Name: Close, dtype: float64"
      ]
     },
     "execution_count": 24,
     "metadata": {},
     "output_type": "execute_result"
    }
   ],
   "source": [
    "ts = df['Close'][-10:]\n",
    "ts"
   ]
  },
  {
   "cell_type": "code",
   "execution_count": 25,
   "metadata": {
    "collapsed": false
   },
   "outputs": [
    {
     "data": {
      "text/plain": [
       "pandas.core.series.Series"
      ]
     },
     "execution_count": 25,
     "metadata": {},
     "output_type": "execute_result"
    }
   ],
   "source": [
    "type(ts)"
   ]
  },
  {
   "cell_type": "code",
   "execution_count": 27,
   "metadata": {
    "collapsed": false
   },
   "outputs": [
    {
     "data": {
      "text/plain": [
       "Timestamp('2015-06-01 00:00:00')"
      ]
     },
     "execution_count": 27,
     "metadata": {},
     "output_type": "execute_result"
    }
   ],
   "source": [
    "date = ts.index[5]\n",
    "date"
   ]
  },
  {
   "cell_type": "code",
   "execution_count": 28,
   "metadata": {
    "collapsed": false
   },
   "outputs": [
    {
     "data": {
      "text/plain": [
       "130.53998999999999"
      ]
     },
     "execution_count": 28,
     "metadata": {},
     "output_type": "execute_result"
    }
   ],
   "source": [
    "ts[date]"
   ]
  },
  {
   "cell_type": "code",
   "execution_count": 29,
   "metadata": {
    "collapsed": false
   },
   "outputs": [
    {
     "data": {
      "text/plain": [
       "130.53998999999999"
      ]
     },
     "execution_count": 29,
     "metadata": {},
     "output_type": "execute_result"
    }
   ],
   "source": [
    "ts[5]"
   ]
  },
  {
   "cell_type": "code",
   "execution_count": 30,
   "metadata": {
    "collapsed": false
   },
   "outputs": [
    {
     "data": {
      "text/html": [
       "<div style=\"max-height:1000px;max-width:1500px;overflow:auto;\">\n",
       "<table border=\"1\" class=\"dataframe\">\n",
       "  <thead>\n",
       "    <tr style=\"text-align: right;\">\n",
       "      <th></th>\n",
       "      <th>Open</th>\n",
       "      <th>Close</th>\n",
       "    </tr>\n",
       "    <tr>\n",
       "      <th>Date</th>\n",
       "      <th></th>\n",
       "      <th></th>\n",
       "    </tr>\n",
       "  </thead>\n",
       "  <tbody>\n",
       "    <tr>\n",
       "      <th>2006-10-02</th>\n",
       "      <td> 75.09999</td>\n",
       "      <td> 74.86003</td>\n",
       "    </tr>\n",
       "    <tr>\n",
       "      <th>2006-10-03</th>\n",
       "      <td> 74.44997</td>\n",
       "      <td> 74.08002</td>\n",
       "    </tr>\n",
       "    <tr>\n",
       "      <th>2006-10-04</th>\n",
       "      <td> 74.09997</td>\n",
       "      <td> 75.37999</td>\n",
       "    </tr>\n",
       "    <tr>\n",
       "      <th>2006-10-05</th>\n",
       "      <td> 74.52998</td>\n",
       "      <td> 74.83000</td>\n",
       "    </tr>\n",
       "    <tr>\n",
       "      <th>2006-10-06</th>\n",
       "      <td> 74.42001</td>\n",
       "      <td> 74.22002</td>\n",
       "    </tr>\n",
       "  </tbody>\n",
       "</table>\n",
       "</div>"
      ],
      "text/plain": [
       "                Open     Close\n",
       "Date                          \n",
       "2006-10-02  75.09999  74.86003\n",
       "2006-10-03  74.44997  74.08002\n",
       "2006-10-04  74.09997  75.37999\n",
       "2006-10-05  74.52998  74.83000\n",
       "2006-10-06  74.42001  74.22002"
      ]
     },
     "execution_count": 30,
     "metadata": {},
     "output_type": "execute_result"
    }
   ],
   "source": [
    "df[['Open', 'Close']].head()"
   ]
  },
  {
   "cell_type": "code",
   "execution_count": null,
   "metadata": {
    "collapsed": true
   },
   "outputs": [],
   "source": []
  }
 ],
 "metadata": {
  "kernelspec": {
   "display_name": "Python 3",
   "language": "python",
   "name": "python3"
  },
  "language_info": {
   "codemirror_mode": {
    "name": "ipython",
    "version": 3
   },
   "file_extension": ".py",
   "mimetype": "text/x-python",
   "name": "python",
   "nbconvert_exporter": "python",
   "pygments_lexer": "ipython3",
   "version": "3.4.3"
  }
 },
 "nbformat": 4,
 "nbformat_minor": 0
}
