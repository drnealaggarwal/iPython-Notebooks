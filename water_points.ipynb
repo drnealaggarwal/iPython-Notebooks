{
 "cells": [
  {
   "cell_type": "markdown",
   "metadata": {},
   "source": [
    "### Water point mapping for Embu, Kwale, Turkana And Isiolo County\n",
    "#### a data exploration by Dr Neal Aggarwal\n",
    "#### Date: June 6, 2015\n",
    "\n",
    "This is an iPython notebook created to explore this dataset."
   ]
  },
  {
   "cell_type": "code",
   "execution_count": 33,
   "metadata": {
    "collapsed": true
   },
   "outputs": [],
   "source": [
    "# Render our plots in-line\n",
    "%matplotlib inline\n",
    "\n",
    "import pandas as pd\n",
    "import matplotlib.pyplot as plt\n",
    "\n",
    "pd.set_option('display.mpl_style', 'default') # Make the graphs a bit prettier\n",
    "# pd.set_option('display.width', 5000) # to show lots of columns\n",
    "# pd.set_option('display.max_columns', 60) # both are not necessary in our version of pandas -> 0.15.4\n",
    "plt.rcParams['figure.figsize'] = [15, 5]"
   ]
  },
  {
   "cell_type": "code",
   "execution_count": 34,
   "metadata": {
    "collapsed": true
   },
   "outputs": [],
   "source": [
    "# dataset from https://www.opendata.go.ke\n",
    "water_points = pd.read_csv('../data/Water_point_mapping_for_Embu__Kwale__Turkana_And_Isiolo_County.csv')"
   ]
  },
  {
   "cell_type": "code",
   "execution_count": 39,
   "metadata": {
    "collapsed": false
   },
   "outputs": [
    {
     "data": {
      "text/html": [
       "<div style=\"max-height:1000px;max-width:1500px;overflow:auto;\">\n",
       "<table border=\"1\" class=\"dataframe\">\n",
       "  <thead>\n",
       "    <tr style=\"text-align: right;\">\n",
       "      <th></th>\n",
       "      <th>Water Point standardized code</th>\n",
       "      <th>Photo URL</th>\n",
       "      <th>Recording Organization</th>\n",
       "      <th>Name of Source or Water Point</th>\n",
       "      <th>Source part of mainscheme</th>\n",
       "      <th>If Yes Specify</th>\n",
       "      <th>licenced wsp</th>\n",
       "      <th>licencedwspii</th>\n",
       "      <th>County</th>\n",
       "      <th>District</th>\n",
       "      <th>...</th>\n",
       "      <th>Estimated water consumtion in dry season per HH per day in Litres</th>\n",
       "      <th>Quantitative in field assessment Ecoli</th>\n",
       "      <th>Qualitative in field assessment</th>\n",
       "      <th>Time Water Collection on average</th>\n",
       "      <th>Comments</th>\n",
       "      <th>Location 1</th>\n",
       "      <th>altitude</th>\n",
       "      <th>date Created</th>\n",
       "      <th>last Edited</th>\n",
       "      <th>key</th>\n",
       "    </tr>\n",
       "  </thead>\n",
       "  <tbody>\n",
       "    <tr>\n",
       "      <th>0</th>\n",
       "      <td>   kwl/gr1/002</td>\n",
       "      <td> http://epicollectserver.appspot.com/showImageW...</td>\n",
       "      <td> CWSB</td>\n",
       "      <td> mnazi moja spring</td>\n",
       "      <td> No</td>\n",
       "      <td> n/a</td>\n",
       "      <td> Yes</td>\n",
       "      <td> Kwale water and Sewerage company</td>\n",
       "      <td> Kwale</td>\n",
       "      <td>    Msambweni</td>\n",
       "      <td>...</td>\n",
       "      <td> 120</td>\n",
       "      <td> Safe</td>\n",
       "      <td> Crisp and clear</td>\n",
       "      <td>                                       Null</td>\n",
       "      <td> reliable water source but require protection</td>\n",
       "      <td>  Mafisini, Kwale\\n(-4.44151956, 39.36930326)</td>\n",
       "      <td> -17.799999</td>\n",
       "      <td> 12:37.2</td>\n",
       "      <td> NaN</td>\n",
       "      <td> ahZzfmVwaWNvbGxlY3RzZXJ2ZXItaHJkcg4LEgVFbnRyeR...</td>\n",
       "    </tr>\n",
       "    <tr>\n",
       "      <th>1</th>\n",
       "      <td> KWL/GR1/ 0059</td>\n",
       "      <td> http://epicollectserver.appspot.com/showImageW...</td>\n",
       "      <td> CWSB</td>\n",
       "      <td>      Mtituni well</td>\n",
       "      <td> No</td>\n",
       "      <td> n/a</td>\n",
       "      <td> Yes</td>\n",
       "      <td> Kwale water and Sewerage company</td>\n",
       "      <td> Kwale</td>\n",
       "      <td>    Msambweni</td>\n",
       "      <td>...</td>\n",
       "      <td> 100</td>\n",
       "      <td> Safe</td>\n",
       "      <td> Crisp and clear</td>\n",
       "      <td> Less one hour to and from and waiting time</td>\n",
       "      <td>                                     Seasonal</td>\n",
       "      <td> Mwachande, Kwale\\n(-4.45509513, 39.38483282)</td>\n",
       "      <td>  28.299999</td>\n",
       "      <td> 09:07.4</td>\n",
       "      <td> NaN</td>\n",
       "      <td> ahZzfmVwaWNvbGxlY3RzZXJ2ZXItaHJkcg4LEgVFbnRyeR...</td>\n",
       "    </tr>\n",
       "    <tr>\n",
       "      <th>2</th>\n",
       "      <td>        emb 31</td>\n",
       "      <td> http://epicollectserver.appspot.com/showImageW...</td>\n",
       "      <td> TWSB</td>\n",
       "      <td>        kwa mwenda</td>\n",
       "      <td> No</td>\n",
       "      <td> NaN</td>\n",
       "      <td>  No</td>\n",
       "      <td>                              NaN</td>\n",
       "      <td>  Embu</td>\n",
       "      <td> mbeere south</td>\n",
       "      <td>...</td>\n",
       "      <td>  40</td>\n",
       "      <td> Safe</td>\n",
       "      <td> Crisp and clear</td>\n",
       "      <td> Less one hour to and from and waiting time</td>\n",
       "      <td>                                          NaN</td>\n",
       "      <td>    marimari, Embu\\n(-0.7152025, 37.75614263)</td>\n",
       "      <td> 998.599976</td>\n",
       "      <td> 01:20.8</td>\n",
       "      <td> NaN</td>\n",
       "      <td> ahZzfmVwaWNvbGxlY3RzZXJ2ZXItaHJkcg4LEgVFbnRyeR...</td>\n",
       "    </tr>\n",
       "  </tbody>\n",
       "</table>\n",
       "<p>3 rows × 92 columns</p>\n",
       "</div>"
      ],
      "text/plain": [
       "  Water Point standardized code  \\\n",
       "0                   kwl/gr1/002   \n",
       "1                 KWL/GR1/ 0059   \n",
       "2                        emb 31   \n",
       "\n",
       "                                           Photo URL Recording Organization  \\\n",
       "0  http://epicollectserver.appspot.com/showImageW...                   CWSB   \n",
       "1  http://epicollectserver.appspot.com/showImageW...                   CWSB   \n",
       "2  http://epicollectserver.appspot.com/showImageW...                   TWSB   \n",
       "\n",
       "  Name of Source or Water Point Source part of mainscheme If Yes Specify  \\\n",
       "0             mnazi moja spring                        No            n/a   \n",
       "1                  Mtituni well                        No            n/a   \n",
       "2                    kwa mwenda                        No            NaN   \n",
       "\n",
       "  licenced wsp                     licencedwspii County      District  \\\n",
       "0          Yes  Kwale water and Sewerage company  Kwale     Msambweni   \n",
       "1          Yes  Kwale water and Sewerage company  Kwale     Msambweni   \n",
       "2           No                               NaN   Embu  mbeere south   \n",
       "\n",
       "                         ...                          \\\n",
       "0                        ...                           \n",
       "1                        ...                           \n",
       "2                        ...                           \n",
       "\n",
       "  Estimated water consumtion in dry season per HH per day in Litres  \\\n",
       "0                                                120                  \n",
       "1                                                100                  \n",
       "2                                                 40                  \n",
       "\n",
       "  Quantitative in field assessment Ecoli Qualitative in field assessment  \\\n",
       "0                                   Safe                 Crisp and clear   \n",
       "1                                   Safe                 Crisp and clear   \n",
       "2                                   Safe                 Crisp and clear   \n",
       "\n",
       "             Time Water Collection on average  \\\n",
       "0                                        Null   \n",
       "1  Less one hour to and from and waiting time   \n",
       "2  Less one hour to and from and waiting time   \n",
       "\n",
       "                                       Comments  \\\n",
       "0  reliable water source but require protection   \n",
       "1                                      Seasonal   \n",
       "2                                           NaN   \n",
       "\n",
       "                                     Location 1    altitude date Created  \\\n",
       "0   Mafisini, Kwale\\n(-4.44151956, 39.36930326)  -17.799999      12:37.2   \n",
       "1  Mwachande, Kwale\\n(-4.45509513, 39.38483282)   28.299999      09:07.4   \n",
       "2     marimari, Embu\\n(-0.7152025, 37.75614263)  998.599976      01:20.8   \n",
       "\n",
       "  last Edited                                                key  \n",
       "0         NaN  ahZzfmVwaWNvbGxlY3RzZXJ2ZXItaHJkcg4LEgVFbnRyeR...  \n",
       "1         NaN  ahZzfmVwaWNvbGxlY3RzZXJ2ZXItaHJkcg4LEgVFbnRyeR...  \n",
       "2         NaN  ahZzfmVwaWNvbGxlY3RzZXJ2ZXItaHJkcg4LEgVFbnRyeR...  \n",
       "\n",
       "[3 rows x 92 columns]"
      ]
     },
     "execution_count": 39,
     "metadata": {},
     "output_type": "execute_result"
    }
   ],
   "source": [
    "# what the data looks like\n",
    "water_points[:3]"
   ]
  },
  {
   "cell_type": "code",
   "execution_count": 40,
   "metadata": {
    "collapsed": false
   },
   "outputs": [
    {
     "data": {
      "text/plain": [
       "0    Kwale\n",
       "1    Kwale\n",
       "2     Embu\n",
       "3     Embu\n",
       "4     Embu\n",
       "5     Embu\n",
       "6     Embu\n",
       "7    Kwale\n",
       "8    Kwale\n",
       "9     Embu\n",
       "Name: County, dtype: object"
      ]
     },
     "execution_count": 40,
     "metadata": {},
     "output_type": "execute_result"
    }
   ],
   "source": [
    "water_points['County'][:10]"
   ]
  },
  {
   "cell_type": "code",
   "execution_count": 44,
   "metadata": {
    "collapsed": false
   },
   "outputs": [
    {
     "data": {
      "text/html": [
       "<div style=\"max-height:1000px;max-width:1500px;overflow:auto;\">\n",
       "<table border=\"1\" class=\"dataframe\">\n",
       "  <thead>\n",
       "    <tr style=\"text-align: right;\">\n",
       "      <th></th>\n",
       "      <th>County</th>\n",
       "      <th>District</th>\n",
       "    </tr>\n",
       "  </thead>\n",
       "  <tbody>\n",
       "    <tr>\n",
       "      <th>0</th>\n",
       "      <td> Kwale</td>\n",
       "      <td>    Msambweni</td>\n",
       "    </tr>\n",
       "    <tr>\n",
       "      <th>1</th>\n",
       "      <td> Kwale</td>\n",
       "      <td>    Msambweni</td>\n",
       "    </tr>\n",
       "    <tr>\n",
       "      <th>2</th>\n",
       "      <td>  Embu</td>\n",
       "      <td> mbeere south</td>\n",
       "    </tr>\n",
       "    <tr>\n",
       "      <th>3</th>\n",
       "      <td>  Embu</td>\n",
       "      <td> mbeere south</td>\n",
       "    </tr>\n",
       "    <tr>\n",
       "      <th>4</th>\n",
       "      <td>  Embu</td>\n",
       "      <td> mbeere south</td>\n",
       "    </tr>\n",
       "  </tbody>\n",
       "</table>\n",
       "</div>"
      ],
      "text/plain": [
       "  County      District\n",
       "0  Kwale     Msambweni\n",
       "1  Kwale     Msambweni\n",
       "2   Embu  mbeere south\n",
       "3   Embu  mbeere south\n",
       "4   Embu  mbeere south"
      ]
     },
     "execution_count": 44,
     "metadata": {},
     "output_type": "execute_result"
    }
   ],
   "source": [
    "water_points[['County', 'District']][:5]"
   ]
  },
  {
   "cell_type": "code",
   "execution_count": 43,
   "metadata": {
    "collapsed": false
   },
   "outputs": [
    {
     "data": {
      "text/plain": [
       "Embu       769\n",
       "Kwale      427\n",
       "Turkana    378\n",
       "Isiolo     110\n",
       "dtype: int64"
      ]
     },
     "execution_count": 43,
     "metadata": {},
     "output_type": "execute_result"
    }
   ],
   "source": [
    "water_points['County'].value_counts()"
   ]
  },
  {
   "cell_type": "code",
   "execution_count": 52,
   "metadata": {
    "collapsed": false
   },
   "outputs": [
    {
     "data": {
      "text/plain": [
       "mbeere south    229\n",
       "Msambweni       166\n",
       "msambweni       138\n",
       "Mbeere south    132\n",
       "Loima           128\n",
       "Embu East       120\n",
       "loima           115\n",
       "MSAMBWENI       112\n",
       "Isiolo          103\n",
       "Embu west        81\n",
       "dtype: int64"
      ]
     },
     "execution_count": 52,
     "metadata": {},
     "output_type": "execute_result"
    }
   ],
   "source": [
    "# top data collection sites\n",
    "top_districts = water_points['District'].value_counts()\n",
    "top_districts[:10]"
   ]
  },
  {
   "cell_type": "code",
   "execution_count": 56,
   "metadata": {
    "collapsed": false
   },
   "outputs": [
    {
     "data": {
      "text/plain": [
       "<matplotlib.axes._subplots.AxesSubplot at 0x10c85ccf8>"
      ]
     },
     "execution_count": 56,
     "metadata": {},
     "output_type": "execute_result"
    },
    {
     "data": {
      "image/png": "[encoded data removed]",
      "text/plain": [
       "<matplotlib.figure.Figure at 0x10c5a0438>"
      ]
     },
     "metadata": {},
     "output_type": "display_data"
    }
   ],
   "source": [
    "# top data collection sites plotted\n",
    "top_districts[:35].plot(kind='bar')"
   ]
  },
  {
   "cell_type": "code",
   "execution_count": null,
   "metadata": {
    "collapsed": true
   },
   "outputs": [],
   "source": []
  }
 ],
 "metadata": {
  "kernelspec": {
   "display_name": "Python 3",
   "language": "python",
   "name": "python3"
  },
  "language_info": {
   "codemirror_mode": {
    "name": "ipython",
    "version": 3
   },
   "file_extension": ".py",
   "mimetype": "text/x-python",
   "name": "python",
   "nbconvert_exporter": "python",
   "pygments_lexer": "ipython3",
   "version": "3.4.3"
  }
 },
 "nbformat": 4,
 "nbformat_minor": 0
}
