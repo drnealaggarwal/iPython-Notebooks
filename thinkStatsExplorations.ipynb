{
 "cells": [
  {
   "cell_type": "code",
   "execution_count": 1,
   "metadata": {
    "collapsed": false
   },
   "outputs": [
    {
     "data": {
      "text/plain": [
       "'/Users/nealaggarwal/iPython-Notebooks'"
      ]
     },
     "execution_count": 1,
     "metadata": {},
     "output_type": "execute_result"
    }
   ],
   "source": [
    "pwd"
   ]
  },
  {
   "cell_type": "code",
   "execution_count": 2,
   "metadata": {
    "collapsed": false
   },
   "outputs": [
    {
     "name": "stdout",
     "output_type": "stream",
     "text": [
      "/Users/nealaggarwal/Books\n"
     ]
    }
   ],
   "source": [
    "cd ~/Books/"
   ]
  },
  {
   "cell_type": "code",
   "execution_count": 3,
   "metadata": {
    "collapsed": false
   },
   "outputs": [
    {
     "name": "stdout",
     "output_type": "stream",
     "text": [
      "2002FemPreg.dat\r\n",
      "2002FemPreg.dat.gz\r\n",
      "2002FemResp.dat\r\n",
      "2002FemResp.dat.gz\r\n",
      "2002Male.dat\r\n",
      "2002Male.dat.gz\r\n",
      "Data Science from Scratch First Principles with Python.pdf\r\n",
      "Elementary Statistics, 12th Edition - Mario F. Triola.pdf\r\n",
      "Python for data analysis.pdf\r\n",
      "The Edison Cell - Nuts & Volts Magazine - For The Electronics Hobbyist.pdf\r\n",
      "\u001b[31mYann Martel - Life of Pi.pdf\u001b[m\u001b[m*\r\n",
      "survey.py\r\n",
      "thinkbayes.pdf\r\n",
      "thinkstats.pdf\r\n"
     ]
    }
   ],
   "source": [
    "ls"
   ]
  },
  {
   "cell_type": "code",
   "execution_count": 4,
   "metadata": {
    "collapsed": false
   },
   "outputs": [
    {
     "ename": "SyntaxError",
     "evalue": "invalid syntax (survey.py, line 190)",
     "output_type": "error",
     "traceback": [
      "\u001b[0;36m  File \u001b[0;32m\"/Users/nealaggarwal/Books/survey.py\"\u001b[0;36m, line \u001b[0;32m190\u001b[0m\n\u001b[0;31m    print 'Number of respondents', len(resp.records)\u001b[0m\n\u001b[0m                                ^\u001b[0m\n\u001b[0;31mSyntaxError\u001b[0m\u001b[0;31m:\u001b[0m invalid syntax\n"
     ]
    }
   ],
   "source": [
    "import survey"
   ]
  },
  {
   "cell_type": "code",
   "execution_count": 7,
   "metadata": {
    "collapsed": true
   },
   "outputs": [],
   "source": [
    "edit??"
   ]
  },
  {
   "cell_type": "code",
   "execution_count": null,
   "metadata": {
    "collapsed": true
   },
   "outputs": [],
   "source": []
  }
 ],
 "metadata": {
  "kernelspec": {
   "display_name": "Python 3",
   "language": "python",
   "name": "python3"
  },
  "language_info": {
   "codemirror_mode": {
    "name": "ipython",
    "version": 3
   },
   "file_extension": ".py",
   "mimetype": "text/x-python",
   "name": "python",
   "nbconvert_exporter": "python",
   "pygments_lexer": "ipython3",
   "version": "3.4.3"
  }
 },
 "nbformat": 4,
 "nbformat_minor": 0
}
